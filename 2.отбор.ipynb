{
 "cells": [
  {
   "cell_type": "code",
   "execution_count": null,
   "id": "0b25db61-55b7-4fcc-ab7b-2eeee59ca94a",
   "metadata": {},
   "outputs": [],
   "source": [
    "import pandas as pd\n",
    "import re\n",
    "\n",
    "input_file_path = \"ФАЙЛcМероприятиями.csv\" \n",
    "df = pd.read_csv(input_file_path, encoding='utf-8-sig', sep=';')\n",
    "\n",
    "filter_names = [\n",
    "    \"НАЗВАНИЯ МЕРОПРИЯТИЙ\",\"НАЗВАНИЯ МЕРОПРИЯТИЙ\"\n",
    "]\n",
    "\n",
    "def normalize_text(text):\n",
    "    if not isinstance(text, str):\n",
    "        return \"\"\n",
    "    normalized = text.lower().strip()\n",
    "    normalized = re.sub(r'[^\\w\\s\\-\\\"]', '', normalized)\n",
    "    normalized = re.sub(r'\\s+', ' ', normalized)\n",
    "    return normalized\n",
    "\n",
    "normalized_filter_names = [normalize_text(name) for name in filter_names]\n",
    "\n",
    "def matches_filter(event_name):\n",
    "    normalized_name = normalize_text(event_name)\n",
    "    \n",
    "    base_name = re.sub(r'\\s+\\-\\s+занятие\\s+\\d+.*', '', normalized_name)\n",
    "    base_name = re.sub(r'\\s+группа\\s+\\d+.*', '', base_name)\n",
    "    \n",
    "    for filter_name in normalized_filter_names:\n",
    "        if filter_name in base_name or base_name in filter_name:\n",
    "            return True\n",
    "    return False\n",
    "\n",
    "# Фильтруем DataFrame\n",
    "print(f\"Исходное количество строк: {len(df)}\")\n",
    "filtered_df = df[df[\"Название мероприятия\"].apply(matches_filter)]\n",
    "print(f\"Количество строк после фильтрации: {len(filtered_df)}\")\n",
    "output_file = \"filtered_courses.csv\"\n",
    "filtered_df.to_csv(output_file, index=False, encoding='utf-8-sig', sep=';')\n",
    "print(f\"Отфильтрованный файл сохранен как: {output_file}\")\n",
    "print(\"\\nПримеры отфильтрованных строк:\")\n",
    "print(filtered_df[\"Название мероприятия\"].head(10))\n",
    "print(\"\\nПримеры строк, которые не прошли фильтрацию:\")\n",
    "non_filtered = df[~df[\"Название мероприятия\"].apply(matches_filter)]\n",
    "print(non_filtered[\"Название мероприятия\"].head(10))"
   ]
  }
 ],
 "metadata": {
  "kernelspec": {
   "display_name": "Python 3",
   "language": "python",
   "name": "python3"
  },
  "language_info": {
   "codemirror_mode": {
    "name": "ipython",
    "version": 3
   },
   "file_extension": ".py",
   "mimetype": "text/x-python",
   "name": "python",
   "nbconvert_exporter": "python",
   "pygments_lexer": "ipython3",
   "version": "3.13.3"
  }
 },
 "nbformat": 4,
 "nbformat_minor": 5
}
